{
  "nbformat": 4,
  "nbformat_minor": 0,
  "metadata": {
    "colab": {
      "name": "1주차과제.ipynb",
      "provenance": [],
      "collapsed_sections": [],
      "authorship_tag": "ABX9TyPTB5LbkHgxChdA75D9iBWZ",
      "include_colab_link": true
    },
    "kernelspec": {
      "name": "python3",
      "display_name": "Python 3"
    }
  },
  "cells": [
    {
      "cell_type": "markdown",
      "metadata": {
        "id": "view-in-github",
        "colab_type": "text"
      },
      "source": [
        "<a href=\"https://colab.research.google.com/github/bokyungJ/AI_precourse/blob/master/1%EC%A3%BC%EC%B0%A8%EA%B3%BC%EC%A0%9C.ipynb\" target=\"_parent\"><img src=\"https://colab.research.google.com/assets/colab-badge.svg\" alt=\"Open In Colab\"/></a>"
      ]
    },
    {
      "cell_type": "markdown",
      "metadata": {
        "id": "vLjSOTO34SGJ",
        "colab_type": "text"
      },
      "source": [
        "# 1주차 과제 - 인공지능 사례 분석\n",
        "\n",
        "__1. 언어__\n",
        "* 번역\n",
        "\n",
        " 입력문장의 일부가 아닌 문장 전체 정보를 바탕으로 번역을 수행\n",
        "\n",
        " NMT(Neural Machine Translation) 기술을 이용하는데 이 기술은 입력 문장을 문장벡터로 변환하는 신경망과 문장벡터에서 번역하는 언어의 문장을 생성하는 신경망을 대규모의 병렬 코퍼스부터 자동으로 학습\n",
        "\n",
        " [출처 : Naver Developers](https://developers.naver.com/products/nmt/)\n",
        "* 챗봇(Chatbot)\n",
        "\n",
        " 사람과 자연스러운 대화를 할 수 있는 채팅 로봇\n",
        "\n",
        " 자연어처리라 불리는 NLP(Natural Language Processing)기술과 패턴인식등의 기술 사용\n",
        "\n",
        "__2. 음성__\n",
        "* 음성 인식\n",
        "\n",
        " STT(Speech-To-Text)\n",
        " 사람의 음성 신호의 파형을 분석하여 사람의 음성을 텍스트로 변환하는 시스템\n",
        "* 음성 합성\n",
        "\n",
        " TTS(Text-To-Speech)\n",
        "\n",
        " 사람의 소리를 합성하여 일일히 녹음이 필요 없이 원하는 문장을 원하는 사람의 목소리로 구현하는 기술\n",
        "\n",
        "__3. 이미지__\n",
        "* LG 올레드 TV AI ThinQ\n",
        "\n",
        " 인공지능 화질엔진 알파9(a9)를 탑재하여 최적의 화질을 찾음 \n",
        " \n",
        " 노이즈 4단계 제거, 영상 데이터 분석을 통한 사물과 배경 분리 후 사물은 명암비/선명도 강화\n",
        "\n",
        " [출처 : LG전자](https://www.lge.co.kr/lgekor/product/media/tv/productDetail.do?cateId=1160&prdId=EPRD.353345)\n",
        "* DeepFace\n",
        "\n",
        " Facebook 연구 그룹이 만든 얼굴 인식 시스템\n",
        "\n",
        " 97.25%의 정확도로 인간의 인식(97.53%)과 비슷\n",
        "\n",
        "__4. 자율주행__\n",
        "* Tesla Autopilot\n",
        " \n",
        " 테슬라(Tesla)의 자율주행 시스템. \n",
        "\n",
        " 전방 카메라와 레이더, 차량 둘레에 있는 12개의 초음파 센서로 차량을 조종하고 속도를 조절\n",
        "\n",
        " 1/10초마다 레이더를 발사해 3차원 영상을 얻는 등의 사물 식별 기능을 이용\n",
        "\n",
        " [출처 : 네이버 지식백과](https://terms.naver.com/entry.nhn?docId=3586175&cid=59277&categoryId=59283)\n",
        "* 옵티머스 라이드\n",
        "\n",
        " 물체를 빠르게 식별하는 머신 비전 시스템과 물체가 어디로 향할 것인지와 같은 예측 등의 모든 데이터 소스를 통합할 수 있음\n",
        "\n",
        " [출처 : 네이버 지식백과](https://terms.naver.com/entry.nhn?docId=5814164&cid=60296&categoryId=60302)"
      ]
    }
  ]
}